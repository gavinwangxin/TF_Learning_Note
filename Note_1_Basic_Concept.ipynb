{
 "cells": [
  {
   "cell_type": "markdown",
   "metadata": {},
   "source": [
    "### computation in tensorflow can be viewed as a directed graph, or, so-called computation graph. Each operation is treated as  a $node$. The  connnections between nodes are defined as $edge$.  Such compuitaiton graph describes the computaion procedure of data, as well as takes charge in mantaining and updating status."
   ]
  },
  {
   "cell_type": "code",
   "execution_count": null,
   "metadata": {},
   "outputs": [],
   "source": []
  }
 ],
 "metadata": {
  "kernelspec": {
   "display_name": "Python 3",
   "language": "python",
   "name": "python3"
  },
  "language_info": {
   "codemirror_mode": {
    "name": "ipython",
    "version": 3
   },
   "file_extension": ".py",
   "mimetype": "text/x-python",
   "name": "python",
   "nbconvert_exporter": "python",
   "pygments_lexer": "ipython3",
   "version": "3.6.5"
  }
 },
 "nbformat": 4,
 "nbformat_minor": 2
}
